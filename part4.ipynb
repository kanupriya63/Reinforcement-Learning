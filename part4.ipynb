{
 "cells": [
  {
   "cell_type": "markdown",
   "metadata": {
    "id": "rNuohp44N00i"
   },
   "source": [
    "### Objectives\n",
    "\n",
    "#### Q.1: You will implement a number of off-policy multi-step return estimates, and answer questions about their accuracy.\n",
    "\n",
    "#### Q.2: You will be looking at other, TD-like, updates to learn the value function. You will be asked to investigate different properties of these: e.g. convergence properties, variance of updates. This is akin to a typical analysis one would undertaken when proposing a new update rule to learn value functions.\n"
   ]
  },
  {
   "cell_type": "markdown",
   "metadata": {
    "id": "Z1p0fpbxQLyn"
   },
   "source": [
    "## Imports"
   ]
  },
  {
   "cell_type": "code",
   "execution_count": 1,
   "metadata": {
    "id": "Ps5OnkPmDbMX"
   },
   "outputs": [],
   "source": [
    "import matplotlib.pyplot as plt\n",
    "import numpy as np\n",
    "\n",
    "np.set_printoptions(precision=3, suppress=1)\n",
    "plt.style.use('seaborn-notebook')"
   ]
  },
  {
   "cell_type": "markdown",
   "metadata": {
    "id": "thswfgXU_p05"
   },
   "source": [
    "## Q1 [11 points total]\n",
    "For many concrete algorithms, we need to combine multi-step updates with off-policy corrections.  The multi-step updates are necessary for efficient learning, while the off-policy corrections are necessary to learn about multiple things at once, or to correct for a distribution mismatch (e.g., when trying to perform a policy-gradient update from logged data).\n",
    "\n",
    "In this section, you will implement various different returns with off-policy corrections.  The next cell has two examples *without* corrections.  These examples compute equivalent returns, but compute those returns in different ways.  These are provided as reference implementations to help you.\n",
    "\n",
    "Note that the implementations both allow for immediate bootstrapping on the current state value. This is unconventional (most literature only allows the first bootstrapping to happen after the first step), but we will use this convention in all implementations below for consistency. "
   ]
  },
  {
   "cell_type": "code",
   "execution_count": 2,
   "metadata": {
    "id": "KHNH35SZYHBu"
   },
   "outputs": [],
   "source": [
    "#title On-policy return computations\n",
    "def on_policy(observations, actions, pi, mu, rewards, discounts,\n",
    "              trace_parameter, v_fn):\n",
    "  \"\"\"Compute on-policy return recursively.\"\"\"\n",
    "  del mu  # The policy probabilities are ignored by this function\n",
    "  del pi\n",
    "  T = len(rewards)  # number of transitions\n",
    "  r = rewards\n",
    "  d = discounts\n",
    "  l = trace_parameter\n",
    "  v = np.array([v_fn(o) for o in observations])\n",
    "  G = np.zeros((T,))\n",
    "  # recurse backwards to calculate returns\n",
    "  for t in reversed(range(T)):\n",
    "    # There are T+1 observations, but only T rewards, and the indexing here\n",
    "    # for the rewards is off by one compared to the indexing in the slides\n",
    "    # and in Sutton & Barto.  In other words, r[t] == R_{t+1}.\n",
    "    if t == T - 1:\n",
    "      G[t] = r[t] + d[t]*v[t + 1]\n",
    "    else:\n",
    "      G[t] = r[t] + d[t]*((1 - l)*v[t + 1] + l*G[t + 1])\n",
    "  v = v[:-1]  # Remove (T+1)th observation before calculating the returns\n",
    "  return (1 - l)*v + l*G\n",
    "\n",
    "def on_policy_error_recursion(observations, actions, pi, mu, rewards, discounts,\n",
    "                              trace_parameter, v_fn):\n",
    "  del pi  # The target policy probabilities are ignored by this function\n",
    "  del mu  # The behaviour policy probabilities are ignored by this function\n",
    "  T = len(rewards)  # number of transitions\n",
    "  r = rewards\n",
    "  d = discounts\n",
    "  l = trace_parameter\n",
    "  v = np.array([v_fn(o) for o in observations])\n",
    "  errors = np.zeros((T,))\n",
    "    \n",
    "  error = 0.\n",
    "  # recurse backwards to calculate errors\n",
    "  for t in reversed(range(T)):\n",
    "    error = r[t] + d[t]*v[t + 1] - v[t] + d[t]*l*error\n",
    "    errors[t] = error\n",
    "  v = v[:-1]  # Remove (T+1)th observation before calculating the returns\n",
    "  return v + l*errors"
   ]
  },
  {
   "cell_type": "markdown",
   "metadata": {
    "id": "UNXhobrYHeiy"
   },
   "source": [
    "### Q 1.1 [5 points]\n",
    "Implement the return functions below and run the cells below that."
   ]
  },
  {
   "cell_type": "code",
   "execution_count": 3,
   "metadata": {
    "id": "cPzHHrmn5Tm7"
   },
   "outputs": [],
   "source": [
    "def full_importance_sampling(observations, actions, pi, mu, rewards, discounts, trace_parameter, v_fn):\n",
    "  \"\"\"\n",
    "  Compute off-policy return with full importance-sampling corrections, so that\n",
    "  the return G_t is corrected with the full importance-sampling correction of\n",
    "  the rest of the trajectory.\n",
    "  \"\"\"\n",
    "  a = actions\n",
    "  r = rewards \n",
    "  d = discounts\n",
    "  l = trace_parameter\n",
    "  T = len(rewards) #number of transition\n",
    "  v = np.array([v_fn(o) for o in observations])\n",
    "  G = np.zeros((T,))\n",
    "  trace = np.zeros((T,))\n",
    "\n",
    "\n",
    "  #we recurse it backwards to calculate the returns\n",
    "  for t in reversed(range(T)):\n",
    "\n",
    "    if t == T-1:\n",
    "      G[t] = r[t] + d[t] * v[t+1]\n",
    "      trace[t] = pi[t] / mu[t]\n",
    "    else:\n",
    "      G[t] = r[t] + d[t] * ((1 - l) * v[t+1] + l*G[t+1])\n",
    "      trace[t] = (pi[t]/mu[t]) * trace[t+1]\n",
    "\n",
    "  # Remove (T+1)th obs before we calculate the returns \n",
    "  v = v[:-1] \n",
    "  G *= trace\n",
    "  G_t = (1 - l)*v + l*G\n",
    "\n",
    "  return G_t\n",
    "\n",
    "\n",
    "def per_decision(observations, actions, pi, mu, rewards, discounts, trace_parameter, v_fn):\n",
    "  \"\"\"\n",
    "  Compute off-policy return with per-decision importance-sampling corrections.\n",
    "  \"\"\"\n",
    "  a = actions\n",
    "  r = rewards \n",
    "  d = discounts\n",
    "  l = trace_parameter\n",
    "  T = len(rewards) #number of transition\n",
    "  v = np.array([v_fn(o) for o in observations])\n",
    "  G = np.zeros((T,))\n",
    "\n",
    "  \n",
    "  #we recurse it backwards to calculate the returns\n",
    "  for t in reversed(range(T)):\n",
    "    if t == T-1:\n",
    "      G[t] = pi[t] / mu[t] * (r[t] + d[t] * v[t+1])\n",
    "    else:\n",
    "      G[t] = pi[t] / mu[t] * (r[t] + d[t] * ((1 - l)*v[t+1] + l*G[t+1]))\n",
    "\n",
    "  # Remove (T+1)th obs before we calculate the returns\n",
    "  v = v[:-1]\n",
    "  G_t = (1 - l)*v + l*G\n",
    "\n",
    "  return G_t\n",
    "\n",
    "\n",
    "def control_variates(observations, actions, pi, mu, rewards, discounts, trace_parameter, v_fn):\n",
    "  \"\"\"\n",
    "  Compute off-policy return with \n",
    "  1. per-decision importance-sampling corrections, and\n",
    "  2. control variates\n",
    "  \"\"\"\n",
    "  a = actions\n",
    "  r = rewards \n",
    "  d = discounts\n",
    "  l = trace_parameter\n",
    "  T = len(rewards) #number of transition\n",
    "  v = np.array([v_fn(o) for o in observations])\n",
    "  G = np.zeros((T,))\n",
    "\n",
    "  #we recurse it backwards to calculate the returns\n",
    "  for t in reversed(range(T)):\n",
    "    \n",
    "    rho = pi[t] / mu[t]\n",
    "    if t == T-1:\n",
    "      G[t] = rho * (r[t] + d[t]*v[t+1]) + (1-rho) *v[t]\n",
    "    else:\n",
    "      G[t] = rho * (r[t] + d[t]*((1-l)*v[t+1] + l*G[t+1])) + (1 - rho) * v[t]\n",
    "  \n",
    "  # Remove (T+1)th obs before we calculate the returns\n",
    "  v = v[:-1]\n",
    "  G_t = (1 - l)*v + l*G\n",
    "\n",
    "  return G_t\n",
    "\n",
    "\n",
    "def adaptive_bootstrapping(observations, actions, pi, mu, rewards, discounts, trace_parameter, v_fn):\n",
    "  \"\"\"\n",
    "  Compute off-policy return with \n",
    "  1. per-decision importance-sampling corrections, and\n",
    "  2. control variates, and\n",
    "  3. adaptive bootstrapping.\n",
    "\n",
    "  Implement the adaptive bootstrapping with an *additional* trace parameter\n",
    "  lambda, such that lambda_t = lambda * min(1, 1/rho_t).\n",
    "  \"\"\"\n",
    "\n",
    "  a = actions\n",
    "  r = rewards \n",
    "  d = discounts\n",
    "  l = trace_parameter\n",
    "  T = len(rewards) #number of transition\n",
    "  v = np.array([v_fn(o) for o in observations])\n",
    "  G = np.zeros((T,))\n",
    "\n",
    "  lam = np.zeros((T, ))\n",
    "\n",
    "  #we recurse it backwards to calculate the returns\n",
    "  for t in reversed(range(T)):\n",
    "    rho_t = pi[t]/mu[t]\n",
    "    lambda_t = l * min(1,1/rho_t)\n",
    "    lam[t] = lambda_t\n",
    "    if t == T-1:\n",
    "      G[t] = rho_t * (r[t] + d[t] * v[t+1] - v[t])\n",
    "    else:\n",
    "      G[t] = rho_t * lambda_t * (r[t] +d[t] * v[t+1] - v[t] + d[t]*G[t+1])\n",
    "  \n",
    "  # Remove (T+1)th obs before we calculate the returns\n",
    "  v = v[:-1]\n",
    "  G_t = v + lam*G\n",
    "\n",
    "  return G_t\n"
   ]
  },
  {
   "cell_type": "code",
   "execution_count": 4,
   "metadata": {
    "id": "7EEHYK89ANIA"
   },
   "outputs": [],
   "source": [
    "#title (Run, don't modify) Functions to generate experience, compute values\n",
    "MU_RIGHT = 0.5\n",
    "PI_RIGHT = 0.9\n",
    "NUMBER_OF_STEPS = 5\n",
    "DISCOUNT = 0.99\n",
    "\n",
    "def generate_experience():\n",
    "  r\"\"\"Generate experience trajectories from a tabular tree MDP.\n",
    "\n",
    "  This function will start in state 0, and will then generate actions according\n",
    "  to a uniformly random behaviour policy.  When A_t == 0, the action will be to\n",
    "  the left, with A_t==1, it will be to the right.  The states are nunmbered as\n",
    "  depicted below:\n",
    "          0\n",
    "         / \\\n",
    "        1   2\n",
    "       / \\ / \\\n",
    "      3   4   5\n",
    "         ...\n",
    "  \n",
    "  Args:\n",
    "      number_of_steps: the number of total steps.\n",
    "      p_right: probability of the behaviour to go right.\n",
    "\n",
    "  Returns:\n",
    "      A dictionary with elements:\n",
    "        * observations (number_of_steps + 1 integers): the\n",
    "          observations are just the actual (integer) states\n",
    "        * actions (number_of_steps integers): actions per step\n",
    "        * rewards (number_of_steps scalars): rewards per step\n",
    "        * discounts (number_of_steps scalars): currently always 0.9,\n",
    "          except the last one which is zero\n",
    "        * mu (number_of_steps scalars): probability of selecting each\n",
    "          action according to the behavious policy\n",
    "        * pi (number_of_steps scalars): probability of selecting each\n",
    "          action according to the target policy (here p(1) = 0.9 and\n",
    "          p(0) = 0.1, where a==1 implies we go 'right')\n",
    "  \"\"\"\n",
    "  # generate actions\n",
    "  actions = np.array(np.random.random(NUMBER_OF_STEPS,) < MU_RIGHT,\n",
    "                     dtype=np.int)\n",
    "  s = 0\n",
    "  # compute resulting states\n",
    "  states = np.cumsum(np.arange(1, NUMBER_OF_STEPS + 1) + actions)\n",
    "  states = np.array([0] + list(states))  # add start state\n",
    "\n",
    "  # in this case, observations are just the real states\n",
    "  observations = states\n",
    "\n",
    "  # generate rewards\n",
    "  rewards     = 2.*actions - 1. # -1 for left, +1 for right, \n",
    "  rewards[-1] = np.sum(actions)  # extra final reward for going right\n",
    "    \n",
    "  # compute discounts\n",
    "  discounts     = DISCOUNT * np.ones_like(rewards)\n",
    "  discounts[-1] = 0.  # final transition is terminal, has discount=0\n",
    "\n",
    "  # determine target and behaviour probabilities for the selected actions\n",
    "  pi = np.array([1. - PI_RIGHT, PI_RIGHT])[actions] # Target probabilities\n",
    "  mu = np.array([1. - MU_RIGHT, MU_RIGHT])[actions] # Behaviour probabilities\n",
    "    \n",
    "  return dict(observations=observations,\n",
    "              actions=actions,\n",
    "              pi=pi,\n",
    "              mu=mu,\n",
    "              rewards=rewards,\n",
    "              discounts=discounts)\n",
    "\n",
    "def true_v(s, pi, number_of_steps):\n",
    "  \"\"\"Compute true state value recursively.\"\"\"\n",
    "  depth = int(np.floor((np.sqrt(1 + 8*s) - 1)/2))\n",
    "  position = int(s - depth*(depth+1)/2)\n",
    "  remaining_steps = number_of_steps - depth\n",
    "  final_reward = DISCOUNT**(remaining_steps-1)*(position + pi*remaining_steps)\n",
    "  reward_per_step = pi*(+1) + (1 - pi)*(-1)\n",
    "  discounted_steps = (1 - DISCOUNT**(remaining_steps - 1))/(1 - DISCOUNT)\n",
    "  reward_along_the_way = reward_per_step * discounted_steps\n",
    "  return reward_along_the_way + final_reward\n",
    "\n"
   ]
  },
  {
   "cell_type": "code",
   "execution_count": 5,
   "metadata": {
    "colab": {
     "base_uri": "https://localhost:8080/",
     "height": 741
    },
    "id": "CCFMUmOfRTqZ",
    "outputId": "797e4f29-4be8-4d1a-ebb7-1c6a286bb632"
   },
   "outputs": [
    {
     "name": "stderr",
     "output_type": "stream",
     "text": [
      "/usr/local/lib/python3.7/dist-packages/ipykernel_launcher.py:41: DeprecationWarning: `np.int` is a deprecated alias for the builtin `int`. To silence this warning, use `int` by itself. Doing this will not modify any behavior and is safe. When replacing `np.int`, you may wish to use e.g. `np.int64` or `np.int32` to specify the precision. If you wish to review your current use, check the release note link for additional information.\n",
      "Deprecated in NumPy 1.20; for more details and guidance: https://numpy.org/devdocs/release/1.20.0-notes.html#deprecations\n"
     ]
    },
    {
     "name": "stdout",
     "output_type": "stream",
     "text": [
      "[ 21.002 535.717 170.489   5.315   0.682]\n"
     ]
    },
    {
     "data": {
      "image/png": "[encoded data removed]",
      "text/plain": [
       "<Figure size 864x576 with 1 Axes>"
      ]
     },
     "metadata": {
      "needs_background": "light"
     },
     "output_type": "display_data"
    }
   ],
   "source": [
    "#title Run experiment (don't modify)\n",
    "algs = ['on_policy', 'full_importance_sampling', 'per_decision', 'control_variates', 'adaptive_bootstrapping']\n",
    "\n",
    "# Precompute state values (for efficiency)\n",
    "N = NUMBER_OF_STEPS\n",
    "true_vs = [true_v(s, PI_RIGHT, N) for s in range((N+1)*(N+2)//2)]\n",
    "\n",
    "def random_v(iteration, s):\n",
    "  rng = np.random.RandomState(seed=s + iteration*10000)\n",
    "  return true_vs[s] + rng.normal(loc=0, scale=1.)  # Add fixed random noise \n",
    "\n",
    "def plot_errors(ax, errors):\n",
    "  errors = np.array(errors)\n",
    "  ax.violinplot(np.log10(errors), showextrema=False)\n",
    "  ax.plot(range(1, len(algs)+1), np.log10(errors).T,\n",
    "          '.', color='#667799', ms=7, alpha=0.2)\n",
    "  ax.plot(range(1, len(algs)+1), np.log10(np.mean(errors, axis=0)),\n",
    "          '.', color='#000000', ms=20)\n",
    "  ax.set_yticks(np.arange(-2, 5))\n",
    "  ax.set_yticklabels(10.**np.arange(-2, 5), fontsize=13)\n",
    "  ax.set_ylabel(\"Value error $(v(s_0) - v_{\\\\pi}(s_0))^2$\", fontsize=15)\n",
    "  ax.set_xticks(range(1, len(algs)+1))\n",
    "  ax.set_xticklabels(algs, fontsize=15, rotation=70)\n",
    "  ax.set_ylim(-1, 4)\n",
    "\n",
    "fig = plt.figure(figsize=(12, 8))\n",
    "\n",
    "errors = []\n",
    "estimates = []\n",
    "v0 = true_vs[0]\n",
    "for iteration in range(1000):\n",
    "  errors.append([])\n",
    "  estimates.append([])\n",
    "  trajectory = generate_experience()\n",
    "  for alg in algs:\n",
    "    estimate = eval(alg)(**trajectory,\n",
    "                        v_fn=lambda s: random_v(iteration, s),\n",
    "                        trace_parameter=0.9)\n",
    "    errors[-1].append((estimate[0] - v0)**2)\n",
    "print(np.mean(errors, axis=0))\n",
    "plot_errors(plt.gca(), errors)"
   ]
  },
  {
   "cell_type": "markdown",
   "metadata": {
    "id": "7hlc4jctHHqv"
   },
   "source": [
    "Above, the distributions of mean squared value errors are shown, with the mean as a big black dot and the (1,000) individual return samples as small black dots.\n",
    "\n",
    "### Q 1.2 [3 points]\n",
    "Explain the ranking in terms of value error of the different return estimates.\n",
    "\n",
    "Answer - We see Adaptive Bootstrapping works best, followed by control variates, then on-policy, per-decision important sampling and the last would be full importance sampling. \n",
    "Explaing them from worst to best - \n",
    "\n",
    "1. **Full Importance Sampling** - We see that full importance sampling performs poorly and has a very high variance and probably with some value errors so large that it cannot be seen in the plot. This happens mainly because trajectory is likely under the target policy but highly unlikely under the behaviour policy. The multiplication of these greater than one corrections leads to us having divergent value errors. Due to this reason, we see that outliers drag the mean value error to be very high.\n",
    "\n",
    "2. **Per Decision Important Sampling** - As we can see from the graph, even this one has a high variance but comapared to full important sampling it is less. This is due to the fact that we do not multiply the trace together but only multiply 𝜌 at each step which then gets incorporated into our value of $G_t^{λ𝜌}$ and this gets used recursively to get $G_{t+1}^{λ𝜌}$.\n",
    "\n",
    "3. **On-policy** - We see that it has lower variance but it doesn't explore optimally as we are following the target policy for exploration. Since the exploration is limited and we are not exploring parts of distribution with potentially higher rewards, we see that the variance and value error are still high.\n",
    "\n",
    "4. **Control Variates** - Variance is further reduced when we use control variates. When we weigh in the error and not the target, we end up adding the control variate which has an expectation of zero and this varies with the target term. If an action with importance sampling ratio of zero is taken, control variate makes sure that the return is unchange rather than zero. This ends up reducing our variances and we see reduced errors.\n",
    "\n",
    "5. **Adaptive Bootstrapping** - This works best as it helps us to only bootstrap when we select an action which is more likely under the behavioural policy than the target policy, meaning $𝜌 >1$. Thus, when combined with control variates and per-decision importance sampling, the variance gets reduced significantly."
   ]
  },
  {
   "cell_type": "markdown",
   "metadata": {
    "id": "O0Uk1d9b4CPc"
   },
   "source": [
    "\n",
    "\n",
    "### Q 1.3 [3 points]\n",
    "Could there be a reason to **not** choose the best return according to this ranking when learning off-policy?  Explain your answer.\n",
    "\n",
    "Answer - There may be certain scenarios when adaptive bootstrapping ( which is our best performing approach ) may not be the best option to use specifically when we are using our function approximations for the value estimates.\n",
    "\n",
    "Though adaptive bootstrapping reduces maximum variance and introduces minimal bias. If and when we combine function approximation and off-policy learning with bootstrapping, we run into an issue known as 'deadly triad' due to the bias introduced by adaptive bootstrapping. When this happens, we cannot guarantee convergence thus increasing the likelihood of divergence."
   ]
  },
  {
   "cell_type": "markdown",
   "metadata": {
    "id": "u5Xn8bDNFm-H"
   },
   "source": [
    "## Q2 [19 points total]\n",
    " Consider a MDP $M = (\\mathcal{S}, \\mathcal{A}, p, r, \\gamma)$ and a behaviour policy $\\mu$. We use policy $\\mu$ to generate trajectories of experience:\n",
    "\\begin{equation*}\n",
    "    (s_{t}, a_{t}, r_{t},s_{t+1}, a_{t+1}, r_{t+1},\\cdots, s_{t+n-1}, a_{t+n-1}, r_{t+n-1}, s_{t+n}, a_{t+n}) \\,.\n",
    "\\end{equation*}\n",
    "Note that this is an $n$-step sequence, starting from time $t$.\n",
    "\n",
    "Given these partial trajectories we consider the following learning problems:\n",
    "\n",
    "\n"
   ]
  },
  {
   "cell_type": "markdown",
   "metadata": {
    "id": "8vc8FfT06lYY"
   },
   "source": [
    "### Q2.1 [9 points]\n",
    "Consider a learning update based on the following temporal difference error:\n",
    "$$\\delta_t = R(S_t, A_t) + \\gamma R(S_{t+1}, A_{t+1}) + \\gamma^2 \\max_a q(S_{t+2}, a) - q(S_t, A_t)$$\n",
    "\n",
    "Consider updating a tabular action value function with TD.\n",
    "\n",
    "i) Does the resulting value function converge, under any initialisation of the value function? Consider an appropiate learning rate (Robbins–Monro conditions). If so, prove the convergence under infinity number of interactions with this MDP, under fixed behaviour policy $\\mu$ and show its convergence point. If not, show why it diverges. (7 points)\n",
    "\n",
    "ii) Under which conditions, would the above process converge to the optimal value function $q_*$ ? (2 points)"
   ]
  },
  {
   "cell_type": "markdown",
   "metadata": {
    "id": "3H4p8jZj6bGP"
   },
   "source": [
    "Answer- i and ii \n",
    "\n",
    "ii) The above process will converge to the optimal value function for any combination of behaviour and target policies, under the condition that the behaviour policy results in infinite exploration and our target policy is greedy in the limit. We assume that Robbins-Monro conditions hold.\n",
    "\n",
    "1. $∀s: ∑^{∞}_{t=1} α_t=∞$ \\\\\n",
    "ensures that the entire possible value function is reachable \\\\\n",
    "2. $∀s: ∑^{∞}_{t=1} α_t^2<∞$ \\\\\n",
    "ensures that the update becomes small enough to ensure stability in that limit."
   ]
  },
  {
   "cell_type": "markdown",
   "metadata": {
    "id": "IfIqVjrP6QI-"
   },
   "source": [
    "### Q2.2 [10 points]\n",
    "\n",
    "Consider the same questions now for the following temporal difference error\n",
    "\\begin{equation}\n",
    "        \\delta_t = r(S_{t},A_{t}) + \\gamma \\frac{\\pi(A_{t+1}|S_{t+1})}{\\mu(A_{t+1}|S_{t+1})} \\left[ r(S_{t+1},A_{t+1}) + \\gamma \\max_{a} q(S_{t+2},a) \\right] - q(S_t, A_t)\n",
    "\\end{equation}\n",
    "\n",
    "where $\\pi(a|s) \\in \\arg\\max_a q(s,a), \\forall s,a \\in \\mathcal{A} \\times \\mathcal{S}$ and consider the behaviour policy to be either:\n",
    "\n",
    "  a. $\\mu(a|s) \\in \\arg\\max_a q(s,a), \\forall s,a \\in \\mathcal{A} \\times \\mathcal{S}$,\n",
    "  \n",
    "  b. $\\mu(a|s) = \\frac{1}{|\\mathcal{A}|}$ (uniformly random policy).\n",
    "\n",
    "Answer the below two questions for **both choices** of the behaviour policy $\\mu$:\n",
    "* i)  Does updating a tabular action value function with this TD error converge to the optimal value function $q_*$? Consider an appropiate learning rate (Robbins–Monro conditions). If so, prove this convergence under infinity number of interaction with this MDP, under behaviour policy $\\mu$. If not, show why it diverges or alternatively convergence to a different solution. (4 points)\n",
    "* ii) How does the variance of this update compare to the one induced by the error in Q5.1? (3 points). \n",
    "* iii) Can you propose a different behaviour policy that achieves a lower variance than any of the choices we considered for $\\mu$? Prove that your behaviour policy achieve this. Argue why, if that is not possible. (3 points)"
   ]
  },
  {
   "cell_type": "markdown",
   "metadata": {
    "id": "NGqQJRzD6Tww"
   },
   "source": [
    "*Answer here:*"
   ]
  },
  {
   "cell_type": "code",
   "execution_count": 5,
   "metadata": {
    "id": "fni_Hmbadi4f"
   },
   "outputs": [],
   "source": []
  }
 ],
 "metadata": {
  "colab": {
   "collapsed_sections": [],
   "name": "21139982_RL_part4.ipynb",
   "provenance": []
  },
  "kernelspec": {
   "display_name": "Python 3",
   "language": "python",
   "name": "python3"
  },
  "language_info": {
   "codemirror_mode": {
    "name": "ipython",
    "version": 3
   },
   "file_extension": ".py",
   "mimetype": "text/x-python",
   "name": "python",
   "nbconvert_exporter": "python",
   "pygments_lexer": "ipython3",
   "version": "3.8.8"
  }
 },
 "nbformat": 4,
 "nbformat_minor": 1
}

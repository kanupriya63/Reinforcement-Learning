{
 "cells": [
  {
   "cell_type": "markdown",
   "metadata": {
    "id": "rNuohp44N00i"
   },
   "source": [
    "# The Assignment\n",
    "\n",
    "### Objectives\n",
    "\n",
    "You will be guided through the implementation of a full deep reinforcement learning agent."
   ]
  },
  {
   "cell_type": "markdown",
   "metadata": {
    "id": "nVBcO5mAV9Ow"
   },
   "source": [
    "## Setup\n",
    "\n",
    "Run all the cells in this section, but do not modify them."
   ]
  },
  {
   "cell_type": "markdown",
   "metadata": {
    "id": "Z1p0fpbxQLyn"
   },
   "source": [
    "## Imports"
   ]
  },
  {
   "cell_type": "code",
   "execution_count": 2,
   "metadata": {
    "id": "Ps5OnkPmDbMX"
   },
   "outputs": [],
   "source": [
    "import matplotlib.pyplot as plt\n",
    "import numpy as np\n",
    "\n",
    "np.set_printoptions(precision=3, suppress=1)\n",
    "plt.style.use('seaborn-notebook')"
   ]
  },
  {
   "cell_type": "markdown",
   "metadata": {
    "id": "3lpweIqAWBX3"
   },
   "source": [
    "## Helpers"
   ]
  },
  {
   "cell_type": "markdown",
   "metadata": {
    "id": "iIRC73HLq6VH"
   },
   "source": [
    "# A) Actor-critics\n",
    "\n",
    "You are going to implement an Actor-critic agent that updates a policy parametrised as a deep neural network.\n",
    "\n",
    "The agent learns online from a single stream of experience, updating the parametes of its policy after each transition in the environment."
   ]
  },
  {
   "cell_type": "markdown",
   "metadata": {
    "id": "KV03Q3MpveUM"
   },
   "source": [
    "### Install packages"
   ]
  },
  {
   "cell_type": "code",
   "execution_count": 3,
   "metadata": {
    "colab": {
     "base_uri": "https://localhost:8080/"
    },
    "id": "wc-kqp3tveUT",
    "outputId": "29c2b1b1-4cc9-4839-c648-cd400c1f7f6b"
   },
   "outputs": [
    {
     "name": "stdout",
     "output_type": "stream",
     "text": [
      "Requirement already satisfied: jaxlib==0.3.0 in /usr/local/lib/python3.7/dist-packages (0.3.0+cuda11.cudnn805)\n",
      "Requirement already satisfied: scipy in /usr/local/lib/python3.7/dist-packages (from jaxlib==0.3.0) (1.4.1)\n",
      "Requirement already satisfied: numpy>=1.19 in /usr/local/lib/python3.7/dist-packages (from jaxlib==0.3.0) (1.21.5)\n",
      "Requirement already satisfied: flatbuffers<3.0,>=1.12 in /usr/local/lib/python3.7/dist-packages (from jaxlib==0.3.0) (2.0)\n",
      "Requirement already satisfied: absl-py in /usr/local/lib/python3.7/dist-packages (from jaxlib==0.3.0) (1.0.0)\n",
      "Requirement already satisfied: six in /usr/local/lib/python3.7/dist-packages (from absl-py->jaxlib==0.3.0) (1.15.0)\n",
      "Cloning into 'bsuite'...\n",
      "remote: Enumerating objects: 1867, done.\u001b[K\n",
      "remote: Counting objects: 100% (264/264), done.\u001b[K\n",
      "remote: Compressing objects: 100% (169/169), done.\u001b[K\n",
      "remote: Total 1867 (delta 169), reused 161 (delta 95), pack-reused 1603\u001b[K\n",
      "Receiving objects: 100% (1867/1867), 742.55 KiB | 13.03 MiB/s, done.\n",
      "Resolving deltas: 100% (1339/1339), done.\n",
      "Processing ./bsuite\n",
      "\u001b[33m  DEPRECATION: A future pip version will change local packages to be built in-place without first copying to a temporary directory. We recommend you use --use-feature=in-tree-build to test your packages with this new behavior before it becomes the default.\n",
      "   pip 21.3 will remove support for this functionality. You can find discussion regarding this at https://github.com/pypa/pip/issues/7555.\u001b[0m\n",
      "Requirement already satisfied: absl-py in /usr/local/lib/python3.7/dist-packages (from bsuite==0.3.5) (1.0.0)\n",
      "Collecting dm_env\n",
      "  Downloading dm_env-1.5-py3-none-any.whl (26 kB)\n",
      "Collecting immutabledict\n",
      "  Downloading immutabledict-2.2.1-py3-none-any.whl (4.0 kB)\n",
      "Requirement already satisfied: matplotlib in /usr/local/lib/python3.7/dist-packages (from bsuite==0.3.5) (3.2.2)\n",
      "Requirement already satisfied: numpy in /usr/local/lib/python3.7/dist-packages (from bsuite==0.3.5) (1.21.5)\n",
      "Requirement already satisfied: pandas in /usr/local/lib/python3.7/dist-packages (from bsuite==0.3.5) (1.3.5)\n",
      "Requirement already satisfied: plotnine in /usr/local/lib/python3.7/dist-packages (from bsuite==0.3.5) (0.6.0)\n",
      "Requirement already satisfied: scipy in /usr/local/lib/python3.7/dist-packages (from bsuite==0.3.5) (1.4.1)\n",
      "Requirement already satisfied: scikit-image in /usr/local/lib/python3.7/dist-packages (from bsuite==0.3.5) (0.18.3)\n",
      "Requirement already satisfied: six in /usr/local/lib/python3.7/dist-packages (from bsuite==0.3.5) (1.15.0)\n",
      "Requirement already satisfied: termcolor in /usr/local/lib/python3.7/dist-packages (from bsuite==0.3.5) (1.1.0)\n",
      "Requirement already satisfied: dm-tree in /usr/local/lib/python3.7/dist-packages (from dm_env->bsuite==0.3.5) (0.1.6)\n",
      "Requirement already satisfied: pyparsing!=2.0.4,!=2.1.2,!=2.1.6,>=2.0.1 in /usr/local/lib/python3.7/dist-packages (from matplotlib->bsuite==0.3.5) (3.0.7)\n",
      "Requirement already satisfied: kiwisolver>=1.0.1 in /usr/local/lib/python3.7/dist-packages (from matplotlib->bsuite==0.3.5) (1.3.2)\n",
      "Requirement already satisfied: python-dateutil>=2.1 in /usr/local/lib/python3.7/dist-packages (from matplotlib->bsuite==0.3.5) (2.8.2)\n",
      "Requirement already satisfied: cycler>=0.10 in /usr/local/lib/python3.7/dist-packages (from matplotlib->bsuite==0.3.5) (0.11.0)\n",
      "Requirement already satisfied: pytz>=2017.3 in /usr/local/lib/python3.7/dist-packages (from pandas->bsuite==0.3.5) (2018.9)\n",
      "Requirement already satisfied: patsy>=0.4.1 in /usr/local/lib/python3.7/dist-packages (from plotnine->bsuite==0.3.5) (0.5.2)\n",
      "Requirement already satisfied: mizani>=0.6.0 in /usr/local/lib/python3.7/dist-packages (from plotnine->bsuite==0.3.5) (0.6.0)\n",
      "Requirement already satisfied: descartes>=1.1.0 in /usr/local/lib/python3.7/dist-packages (from plotnine->bsuite==0.3.5) (1.1.0)\n",
      "Requirement already satisfied: statsmodels>=0.9.0 in /usr/local/lib/python3.7/dist-packages (from plotnine->bsuite==0.3.5) (0.10.2)\n",
      "Requirement already satisfied: palettable in /usr/local/lib/python3.7/dist-packages (from mizani>=0.6.0->plotnine->bsuite==0.3.5) (3.3.0)\n",
      "Requirement already satisfied: networkx>=2.0 in /usr/local/lib/python3.7/dist-packages (from scikit-image->bsuite==0.3.5) (2.6.3)\n",
      "Requirement already satisfied: tifffile>=2019.7.26 in /usr/local/lib/python3.7/dist-packages (from scikit-image->bsuite==0.3.5) (2021.11.2)\n",
      "Requirement already satisfied: imageio>=2.3.0 in /usr/local/lib/python3.7/dist-packages (from scikit-image->bsuite==0.3.5) (2.4.1)\n",
      "Requirement already satisfied: PyWavelets>=1.1.1 in /usr/local/lib/python3.7/dist-packages (from scikit-image->bsuite==0.3.5) (1.2.0)\n",
      "Requirement already satisfied: pillow!=7.1.0,!=7.1.1,>=4.3.0 in /usr/local/lib/python3.7/dist-packages (from scikit-image->bsuite==0.3.5) (7.1.2)\n",
      "Building wheels for collected packages: bsuite\n",
      "  Building wheel for bsuite (setup.py) ... \u001b[?25l\u001b[?25hdone\n",
      "  Created wheel for bsuite: filename=bsuite-0.3.5-py3-none-any.whl size=250321 sha256=cbee8d1c08452c454f94647e6c4e350cb253239c54c60c8feaf2dd2ae755c246\n",
      "  Stored in directory: /tmp/pip-ephem-wheel-cache-87qsfy1m/wheels/9b/17/99/f06e5281ca86b7afe85c0515439b017781ea1dbec73e020501\n",
      "Successfully built bsuite\n",
      "Installing collected packages: immutabledict, dm-env, bsuite\n",
      "Successfully installed bsuite-0.3.5 dm-env-1.5 immutabledict-2.2.1\n",
      "Collecting dm-haiku==0.0.6\n",
      "  Downloading dm_haiku-0.0.6-py3-none-any.whl (309 kB)\n",
      "\u001b[K     |████████████████████████████████| 309 kB 4.7 MB/s \n",
      "\u001b[?25hRequirement already satisfied: tabulate>=0.8.9 in /usr/local/lib/python3.7/dist-packages (from dm-haiku==0.0.6) (0.8.9)\n",
      "Collecting jmp>=0.0.2\n",
      "  Downloading jmp-0.0.2-py3-none-any.whl (16 kB)\n",
      "Requirement already satisfied: absl-py>=0.7.1 in /usr/local/lib/python3.7/dist-packages (from dm-haiku==0.0.6) (1.0.0)\n",
      "Requirement already satisfied: numpy>=1.18.0 in /usr/local/lib/python3.7/dist-packages (from dm-haiku==0.0.6) (1.21.5)\n",
      "Requirement already satisfied: typing-extensions in /usr/local/lib/python3.7/dist-packages (from dm-haiku==0.0.6) (3.10.0.2)\n",
      "Requirement already satisfied: six in /usr/local/lib/python3.7/dist-packages (from absl-py>=0.7.1->dm-haiku==0.0.6) (1.15.0)\n",
      "Installing collected packages: jmp, dm-haiku\n",
      "Successfully installed dm-haiku-0.0.6 jmp-0.0.2\n"
     ]
    }
   ],
   "source": [
    "!pip install -U jaxlib==0.3.0\n",
    "!git clone https://github.com/deepmind/bsuite.git\n",
    "!pip install bsuite/\n",
    "!pip install dm-haiku==0.0.6"
   ]
  },
  {
   "cell_type": "code",
   "execution_count": 4,
   "metadata": {
    "colab": {
     "base_uri": "https://localhost:8080/"
    },
    "id": "q442-kGUvTf4",
    "outputId": "7e6f07ba-fba9-4e76-c8f5-dfa6d5fc8aaf"
   },
   "outputs": [
    {
     "name": "stdout",
     "output_type": "stream",
     "text": [
      "Collecting optax\n",
      "  Downloading optax-0.1.1-py3-none-any.whl (136 kB)\n",
      "\u001b[K     |████████████████████████████████| 136 kB 5.3 MB/s \n",
      "\u001b[?25hRequirement already satisfied: numpy>=1.18.0 in /usr/local/lib/python3.7/dist-packages (from optax) (1.21.5)\n",
      "Requirement already satisfied: absl-py>=0.7.1 in /usr/local/lib/python3.7/dist-packages (from optax) (1.0.0)\n",
      "Collecting chex>=0.0.4\n",
      "  Downloading chex-0.1.1-py3-none-any.whl (70 kB)\n",
      "\u001b[K     |████████████████████████████████| 70 kB 6.9 MB/s \n",
      "\u001b[?25hRequirement already satisfied: jaxlib>=0.1.37 in /usr/local/lib/python3.7/dist-packages (from optax) (0.3.0+cuda11.cudnn805)\n",
      "Requirement already satisfied: typing-extensions>=3.10.0 in /usr/local/lib/python3.7/dist-packages (from optax) (3.10.0.2)\n",
      "Requirement already satisfied: jax>=0.1.55 in /usr/local/lib/python3.7/dist-packages (from optax) (0.3.1)\n",
      "Requirement already satisfied: six in /usr/local/lib/python3.7/dist-packages (from absl-py>=0.7.1->optax) (1.15.0)\n",
      "Requirement already satisfied: toolz>=0.9.0 in /usr/local/lib/python3.7/dist-packages (from chex>=0.0.4->optax) (0.11.2)\n",
      "Requirement already satisfied: dm-tree>=0.1.5 in /usr/local/lib/python3.7/dist-packages (from chex>=0.0.4->optax) (0.1.6)\n",
      "Requirement already satisfied: scipy>=1.2.1 in /usr/local/lib/python3.7/dist-packages (from jax>=0.1.55->optax) (1.4.1)\n",
      "Requirement already satisfied: opt-einsum in /usr/local/lib/python3.7/dist-packages (from jax>=0.1.55->optax) (3.3.0)\n",
      "Requirement already satisfied: flatbuffers<3.0,>=1.12 in /usr/local/lib/python3.7/dist-packages (from jaxlib>=0.1.37->optax) (2.0)\n",
      "Installing collected packages: chex, optax\n",
      "Successfully installed chex-0.1.1 optax-0.1.1\n",
      "Collecting rlax\n",
      "  Downloading rlax-0.1.2-py3-none-any.whl (117 kB)\n",
      "\u001b[K     |████████████████████████████████| 117 kB 4.9 MB/s \n",
      "\u001b[?25hRequirement already satisfied: numpy>=1.18.0 in /usr/local/lib/python3.7/dist-packages (from rlax) (1.21.5)\n",
      "Collecting distrax>=0.0.2\n",
      "  Downloading distrax-0.1.1-py3-none-any.whl (243 kB)\n",
      "\u001b[K     |████████████████████████████████| 243 kB 44.9 MB/s \n",
      "\u001b[?25hRequirement already satisfied: jaxlib>=0.1.37 in /usr/local/lib/python3.7/dist-packages (from rlax) (0.3.0+cuda11.cudnn805)\n",
      "Requirement already satisfied: jax>=0.1.55 in /usr/local/lib/python3.7/dist-packages (from rlax) (0.3.1)\n",
      "Requirement already satisfied: chex>=0.0.8 in /usr/local/lib/python3.7/dist-packages (from rlax) (0.1.1)\n",
      "Requirement already satisfied: absl-py>=0.9.0 in /usr/local/lib/python3.7/dist-packages (from rlax) (1.0.0)\n",
      "Requirement already satisfied: six in /usr/local/lib/python3.7/dist-packages (from absl-py>=0.9.0->rlax) (1.15.0)\n",
      "Requirement already satisfied: toolz>=0.9.0 in /usr/local/lib/python3.7/dist-packages (from chex>=0.0.8->rlax) (0.11.2)\n",
      "Requirement already satisfied: dm-tree>=0.1.5 in /usr/local/lib/python3.7/dist-packages (from chex>=0.0.8->rlax) (0.1.6)\n",
      "Requirement already satisfied: tensorflow-probability>=0.15.0 in /usr/local/lib/python3.7/dist-packages (from distrax>=0.0.2->rlax) (0.16.0)\n",
      "Requirement already satisfied: typing-extensions in /usr/local/lib/python3.7/dist-packages (from jax>=0.1.55->rlax) (3.10.0.2)\n",
      "Requirement already satisfied: opt-einsum in /usr/local/lib/python3.7/dist-packages (from jax>=0.1.55->rlax) (3.3.0)\n",
      "Requirement already satisfied: scipy>=1.2.1 in /usr/local/lib/python3.7/dist-packages (from jax>=0.1.55->rlax) (1.4.1)\n",
      "Requirement already satisfied: flatbuffers<3.0,>=1.12 in /usr/local/lib/python3.7/dist-packages (from jaxlib>=0.1.37->rlax) (2.0)\n",
      "Requirement already satisfied: decorator in /usr/local/lib/python3.7/dist-packages (from tensorflow-probability>=0.15.0->distrax>=0.0.2->rlax) (4.4.2)\n",
      "Requirement already satisfied: gast>=0.3.2 in /usr/local/lib/python3.7/dist-packages (from tensorflow-probability>=0.15.0->distrax>=0.0.2->rlax) (0.5.3)\n",
      "Requirement already satisfied: cloudpickle>=1.3 in /usr/local/lib/python3.7/dist-packages (from tensorflow-probability>=0.15.0->distrax>=0.0.2->rlax) (1.3.0)\n",
      "Installing collected packages: distrax, rlax\n",
      "Successfully installed distrax-0.1.1 rlax-0.1.2\n"
     ]
    }
   ],
   "source": [
    "# solution\n",
    "!pip install optax\n",
    "!pip install rlax"
   ]
  },
  {
   "cell_type": "markdown",
   "metadata": {
    "id": "r_pTfi5dSFX5"
   },
   "source": [
    "### Imports"
   ]
  },
  {
   "cell_type": "code",
   "execution_count": 5,
   "metadata": {
    "id": "huyKrYpvSHSu"
   },
   "outputs": [],
   "source": [
    "from bsuite.environments import catch\n",
    "\n",
    "import jax\n",
    "import jax.numpy as jnp\n",
    "import haiku as hk"
   ]
  },
  {
   "cell_type": "code",
   "execution_count": 6,
   "metadata": {
    "id": "QCWBfrXLjM4p"
   },
   "outputs": [],
   "source": [
    "# solution\n",
    "import optax\n",
    "import rlax"
   ]
  },
  {
   "cell_type": "markdown",
   "metadata": {
    "id": "M6kEki4XHbPy"
   },
   "source": [
    "### Plotting"
   ]
  },
  {
   "cell_type": "code",
   "execution_count": 7,
   "metadata": {
    "id": "EYdWwRrbHbcl"
   },
   "outputs": [],
   "source": [
    "def plot_learning_curve(list_of_episode_returns):\n",
    "  \"\"\"Plot the learning curve.\"\"\"\n",
    "  plt.figure(figsize=(7, 5))\n",
    "\n",
    "  def moving_average(x, w):\n",
    "    return np.convolve(x, np.ones(w), 'valid') / w\n",
    "\n",
    "  smoothed_returns = moving_average(list_of_episode_returns, 30)\n",
    "  plt.plot(smoothed_returns)\n",
    "\n",
    "  plt.xlabel('Average episode returns')\n",
    "  plt.xlabel('Number of episodes')\n",
    "\n",
    "  ax = plt.gca()\n",
    "  ax.spines['left'].set_visible(True)\n",
    "  ax.spines['bottom'].set_visible(True)\n",
    "  ax.spines['right'].set_visible(False)\n",
    "  ax.spines['top'].set_visible(False)\n",
    "  ax.xaxis.set_ticks_position('bottom')\n",
    "  ax.yaxis.set_ticks_position('left')"
   ]
  },
  {
   "cell_type": "markdown",
   "metadata": {
    "id": "Xtlrr5d2p7cS"
   },
   "source": [
    "### Neural networks\n",
    "\n",
    "You will use JAX to define a network parametrising:\n",
    "\n",
    "* The values of each state $v(s)$.\n",
    "* The action preferences in each state $\\{p_i(s)\\}_{i\\in\\{1, ..., |A|\\}}$ (you can think of and implement the preferences $\\mathbf{p}(s)$ as a vector output with $|A|$ elements).\n",
    "\n",
    "You will use `Haiku` (https://github.com/deepmind/dm-haiku) to define the network. You will need to:\n",
    "* define the forward pass of the network as some function `fn`\n",
    "* Use `hk.transform(fn)` to convert this in a pair of functions `init_net` and `apply_net`):\n",
    "\n",
    "\n",
    "        init_net, apply_net = hk.transform(fn)\n",
    "\n",
    "The `init` function has signature `parameters = init_net(key, obs)`, where\n",
    "  * `key` is a Jax random-number-generator key that we will generate with `jax.random.PRNGKey`,\n",
    "  * `observation` is the observation of the agent, which will be flattened into a vector by the network, as described below.\n",
    "\n",
    "The `init_net` returns randomly sampled weights for the neural network:\n",
    "\n",
    "        parameters = init_net(jax.random.PRNGKey(1234), observation)\n",
    "\n",
    "The `apply_net` will have signature `v, p = apply_net(parameters, current_key, obs)` \n",
    "  * `parameters`: the (current) parameters of the ageent,\n",
    "  * `key`: a Jax random keym, e.g., generated with `current_key, key = jax.random.split(key)` (we then keep `key`, which is also a new key, around to split again the next time we need a random key),\n",
    "  * `observation`: the observation of the agent.\n",
    "\n",
    "The `apply_net` function then returns a **scalar** value `v` and a **vector** of preferences `p`, which will define the policy of the agent.\n",
    "\n",
    "A lot of the boilerplate code has been written for you.  You just have to implement some functions as indicated in the questions below."
   ]
  },
  {
   "cell_type": "markdown",
   "metadata": {
    "id": "Gj1nsUYuOoe1"
   },
   "source": [
    "### Q1 [2 marks]\n",
    "\n",
    "Define the forward pass of the neural network. The network must:\n",
    "\n",
    "* take an `observation` as input\n",
    "* reshape the observation into a flat vector `flat_obs`\n",
    "* compute a hidden representation `h = relu(W.dot(flat_obs) + b)`, where `relu(x)` is a 'rectifier linear unit', which computes $\\max(x, 0)$ elementwise (you can just use `jax.nn.relu(x)` to implement this),\n",
    "* compute a vector of action preferences as a linear function of `h`\n",
    "* compute a scalar state value as a linear function of `h`\n",
    "* return the scalar value and vector preferences.\n",
    "\n",
    "Note:\n",
    "* The hidden representation should be a vector of 50 elements.\n",
    "* The action preferences should be a vector of 3 elements (one per each available action).\n",
    "* The value should be a scalar (not a vector with one element).\n"
   ]
  },
  {
   "cell_type": "code",
   "execution_count": 24,
   "metadata": {
    "id": "vRBP0xjtQvTi"
   },
   "outputs": [],
   "source": [
    "def forward_pass(observation):\n",
    "  # Implement forward pass here\n",
    "  \n",
    "  net = hk.Sequential([lambda x: jnp.reshape(x, (-1, )),hk.Linear(50), jax.nn.relu])\n",
    "  \n",
    "  #hidden representation with flattened obs\n",
    "  h = net(observation)\n",
    "\n",
    "  #vector of action preferences (3 elements)\n",
    "  p =  hk.Linear(3)(h)\n",
    "\n",
    "  #state value (scalar)\n",
    "  s =  hk.Linear(1)(h)\n",
    "  v = jnp.squeeze(s, axis=-1)\n",
    "\n",
    "  return v, p\n",
    "\n",
    "# Our forward pass will be deterministic, so we apply `hk.without_apply_rng`.\n",
    "init_net, apply_net = hk.without_apply_rng(hk.transform(forward_pass))"
   ]
  },
  {
   "cell_type": "markdown",
   "metadata": {
    "id": "9ImJUgzFosvD"
   },
   "source": [
    "### Choosing actions\n",
    "\n",
    "A critical component of an actor-critic agent is a (stochastic) policy, mapping `observations` to `actions`. \n",
    "\n",
    "In deep RL, this mapping is conventionally parametrised by a deep neural network."
   ]
  },
  {
   "cell_type": "markdown",
   "metadata": {
    "id": "1MVXNWwlYW24"
   },
   "source": [
    "### Q2 [2 marks]\n",
    "\n",
    "Implement a softmax policy parametrised by the neural network above (i.e., using the `apply_net` function).\n",
    "\n",
    "The function has signature `action = softmax_policy(parameters, key, obs)`, taking the current network parameters `parameters`, a JAX random `key` and the current `observation`. It should return an `action` sampled from a softmax distribution, so that the probability of selecting action $a$ with preference $p(s, a)$ is proportional to $\\exp(p(s, a))$.\n",
    "\n",
    "Functions to perform random sampling in JAX (e.g. those in `jax.random`) take a random key as input, and they are deterministic function of such a key. In general, in a JAX program you need to use the `jax.random.split` function to generate new random keys before every new sampling. The run loop that runs the experiment later on splits the key between consecutive calls to the `policy`. Thus you can assume that a new random `key` is provided to you on each call to the `policy`. If, however, you find that you need a random key in multiple places within the `policy`, do remember to split the key before each use, using `key1, key2 = jax.random.split(key)`.\n",
    "\n",
    "Note that we 'jit' the function.  This means the function will be compiled, which will make it run faster. This does also suppress print statements, so if you are debugging and want to print please comment out the `@jax.jit` line, but don't forget to put it back before running the experiment below, and especially before submitting your assignment."
   ]
  },
  {
   "cell_type": "code",
   "execution_count": 25,
   "metadata": {
    "id": "x-FSOYNOYnUx"
   },
   "outputs": [],
   "source": [
    "@jax.jit\n",
    "def softmax_policy(parameters, key, obs):\n",
    "  \"\"\"Sample action from a softmax policy.\"\"\"\n",
    "\n",
    "  # Get the state and action prefs\n",
    "  v, p = apply_net(parameters, obs)\n",
    "\n",
    "  # softmax probabilities\n",
    "  action_probabilities = jax.nn.softmax(p)\n",
    "\n",
    "  #split the random key\n",
    "  key1, key2 = jax.random.split(key, 2)\n",
    "\n",
    "  # Sample an action using given probs\n",
    "  action = jax.random.choice(key2, jnp.arange(0,3), p=action_probabilities)\n",
    "  \n",
    "  # Return action\n",
    "  return action"
   ]
  },
  {
   "cell_type": "markdown",
   "metadata": {
    "id": "iMYcb7Y9krnT"
   },
   "source": [
    "### Learning values and policies\n",
    "\n",
    "An actor-critic agent requires to update the parameters of the network so as to simultaneously improve the value predictions and the policy.\n",
    "\n",
    "In the next section you will define the gradient updates for each of these two components."
   ]
  },
  {
   "cell_type": "markdown",
   "metadata": {
    "id": "GsIlpmNEk5fv"
   },
   "source": [
    "### Q3 [4 marks]\n",
    "\n",
    "Implement a function to compute a stochastic estimate of the policy gradient from a 1 step transition in the environment.\n",
    "\n",
    "* You will use $R_{t+1} + \\gamma v(S_{t+1})$ as an estimate of $q_{\\pi}(S_t, A_t)$\n",
    "* You will use $v(S_{t})$ as a baseline to reduce the variance of the updates.\n",
    "\n",
    "In the code we actually use names `obs_tm1`, `a_tm1` (where `tm1` stands for '$t$ minus one') for the observation and action at time $t-1$, and `r_t`, `discount_t`, `obs_t` for the reward, discount, and observation at time $t$. So the code is offset a single time step in terms of naming as compared to the typical mathematical formulations.  This is just a naming convention, and should not impact the algorithm.\n",
    "\n",
    "The function below must therefore have signature `grads = policy_gradient(parameters, obs_tm1, a_tm1, r_t, discount_t, obs_t)`.\n",
    "* Where the inputs are:\n",
    "  * `parameters`: the parameters of the network,\n",
    "  * an observation `obs_tm1`\n",
    "  * the action `a_tm1` selected after observing `obs_tm1`,\n",
    "  * the resulting reward `r_t` and discount `discount_t` and observation `obs_t`, as obsesrved after taking action `a_tm1`.\n",
    "\n",
    "This function should return a stochastic estimate of the policy gradient, where `grads` has the same structure as `parameters` and contains an estimate of the gradient of the expected episodic return wrt to each parameter.\n",
    "\n",
    "The policy-gradient estimate should use bootstrapping, using the value estimates that can be gotten using the saame `parameters` as used for the policy.  So the output of this function can be used in a one-step actor-critic update."
   ]
  },
  {
   "cell_type": "markdown",
   "metadata": {
    "id": "02RJAKiX85Wx"
   },
   "source": [
    "\n",
    "### Jax hint:\n",
    "Note that you can use `jax.grad(f)` to get the gradient of any (pure) jax function with a scalar output.  For instance, consider:\n",
    "\n",
    "        def f(w, x, y):\n",
    "          # w, x, and y are all vectors\n",
    "          return jnp.sum(w*x + y)\n",
    "\n",
    "        df = jax.grad(f)\n",
    "    \n",
    "then calling `df(w, x, y)` will give the gradient of the output of `f(w, x, y)` with respect to the first input argument --- here called `w`. You can use this new function `df` as just a normal function. For instance, it can be called from other functions, as usual.\n",
    "\n",
    "Run the cell below to see a concrete example in action.  Note that `df(w, x, y)` in the example below evaluates to the same values as `x`.  This is correct, because the gradient of `f` with respect to `w` is indeed `x`."
   ]
  },
  {
   "cell_type": "code",
   "execution_count": 26,
   "metadata": {
    "colab": {
     "base_uri": "https://localhost:8080/"
    },
    "id": "t1TjveqqGnNA",
    "outputId": "14b6bf48-0854-4681-9572-7c12e5669ac4"
   },
   "outputs": [
    {
     "name": "stdout",
     "output_type": "stream",
     "text": [
      "f(w, x, y):  31.0\n",
      "df(w, x, y): [3. 5.]\n"
     ]
    }
   ],
   "source": [
    "def f(w, x, y):\n",
    "  return jnp.sum(w*x + y)\n",
    "\n",
    "df = jax.grad(f)\n",
    "\n",
    "w = jnp.array([1., 2.])\n",
    "x = jnp.array([3., 5.])\n",
    "y = jnp.array([7., 11.])\n",
    "\n",
    "print(f'f(w, x, y):  {f(w, x, y)}')\n",
    "print(f'df(w, x, y): {df(w, x, y)}')"
   ]
  },
  {
   "cell_type": "markdown",
   "metadata": {
    "id": "wngNEiwrQeF0"
   },
   "source": [
    "### Jax hint:\n",
    "if you have a Haiku network with parameters `w`, then these parameters will typically be a structured dictionary containing the actual weight vectors and matrices that make up the network's parameters.  Suppose you have a function that computes the output of a network, and then uses this to do some stuff, and you want the gradient of that function:\n",
    "\n",
    "        # Define network\n",
    "        def some_haiku_net(...):\n",
    "          ...\n",
    "\n",
    "        # Transform to get init and apply\n",
    "        init, apply = hk.without_apply_rng(hk.transform(some_haiku_net))\n",
    "\n",
    "        # Define a new function\n",
    "        def some_function(w, x, y):\n",
    "           ...some stuff...\n",
    "           # compute output of the network:\n",
    "           output = apply(w, x)\n",
    "           ...some more stuff that uses output...\n",
    "           return ...some_scalar...\n",
    "        \n",
    "        grad_function = jax.grad(some_function)\n",
    "\n",
    "As before, `grads = grad_function(w, x, y)` should now give the gradients of `some_function` with respect to the first input argument, `w`.  These gradients `grads` will have exactly the same shape as the input argment `w`.  But we cannot do things like `w + grads`, because `w` and `grads` are both dictionaries, not just `jnp.array`s.  Instead, we can use Jax' inbuilt tree utils.  For instance, to add the gradients to the weights, we can use:\n",
    "`new_weights = jax.tree_map(lambda w_i, g_i: w_i + 0.1 * g_i, w, grads)`\n"
   ]
  },
  {
   "cell_type": "code",
   "execution_count": 28,
   "metadata": {
    "id": "AHLGjy8he6vh"
   },
   "outputs": [],
   "source": [
    "def policy_lossfunc(parameters, obs_tm1, a_tm1, r_t, discount_t, obs_t):\n",
    "  \n",
    "  # Get the baseline\n",
    "  v_baseline, p_baseline = apply_net(parameters, obs_tm1)\n",
    "  \n",
    "  # Get the state value\n",
    "  v_next, p_next = apply_net(parameters, obs_t)\n",
    "\n",
    "  # Get the loss value\n",
    "  target_tm1 = r_t + discount_t * v_next - v_baseline\n",
    "\n",
    "  # Get the log probabilities of the policy\n",
    "  prob = jax.nn.log_softmax(p_baseline)[a_tm1]\n",
    "  \n",
    "  td_error = jax.lax.stop_gradient(target_tm1) * prob\n",
    "\n",
    "  return td_error\n",
    "\n",
    "def policy_gradient(parameters, obs_tm1, a_tm1, r_t, discount_t, obs_t):\n",
    "  #Returns the policy gradient\n",
    "  grads = jax.grad(policy_lossfunc)(parameters, obs_tm1, a_tm1, r_t, discount_t, obs_t) \n",
    "  return grads"
   ]
  },
  {
   "cell_type": "markdown",
   "metadata": {
    "id": "5XgjefrBlIGN"
   },
   "source": [
    "### Q4 [4 marks]\n",
    "\n",
    "Implement a function to compute a TD(0) update for the parameters of the value function.\n",
    "\n",
    "It must have signature `td_update = value_update(parameters, obs_tm1, a_tm1, r_t, discount_t, obs_t)`.\n",
    "* Where the inputs are:\n",
    "  * the current parameters `parameters` of the network,\n",
    "  * an observation `obs_tm1`\n",
    "  * the action `a_tm1` selected after observing `obs_tm1`,\n",
    "  * the resulting reward `r_t` and environment discount `discount_t` \n",
    "  * and the following observation `obs_t`\n",
    "* Returns a stochastic TD(0) semi-gradient update: `td_update` has the same structure as `parameters`. This contains a stochastic estimate of the negative semi-gradient of the expected value prediction loss: a TD(0) update."
   ]
  },
  {
   "cell_type": "code",
   "execution_count": 29,
   "metadata": {
    "id": "CAONu72iTpzx"
   },
   "outputs": [],
   "source": [
    "def value_lossfunc(parameters, obs_tm1, a_tm1, r_t, discount_t, obs_t):\n",
    "\n",
    "  #Get the baseline\n",
    "  v_baseline, p_baseline =  apply_net(parameters, obs_tm1)\n",
    "  \n",
    "  # Get the state value\n",
    "  v_next, p_next = apply_net(parameters, obs_t)\n",
    "\n",
    "  # Get the loss\n",
    "  td = jax.lax.stop_gradient(r_t + discount_t * v_next - v_baseline)\n",
    "\n",
    "  return td * v_baseline * 2\n",
    "\n",
    "def value_update(parameters, obs_tm1, a_tm1, r_t, discount_t, obs_t):\n",
    "  td_update = jax.grad(value_lossfunc)(parameters, obs_tm1, a_tm1, r_t, discount_t, obs_t) \n",
    "  return td_update"
   ]
  },
  {
   "cell_type": "markdown",
   "metadata": {
    "id": "jAXgLZg8mfMd"
   },
   "source": [
    "### Updating shared parameters\n",
    "\n",
    "The policy gradient identifies the direction of change in the parameters that most steeply improve the policy.\n",
    "The value update identifies the direction of change in the parameters that improves the value predictions (according to TD).\n",
    "\n",
    "However, the value and policy share some of the parameters of the network.  How do we combine the two gradient updates?\n",
    "\n",
    "In this assignment, we simply sum the policy and value components.\n",
    "The function that combines the two gradients is implemented for you in the cell below.  Note the use of `jax.tree_multimap` to facilitate adding the structured parameters."
   ]
  },
  {
   "cell_type": "code",
   "execution_count": 30,
   "metadata": {
    "id": "uhKCLe8jjkdZ"
   },
   "outputs": [],
   "source": [
    "@jax.jit\n",
    "def compute_gradient(parameters, obs_tm1, a_tm1, r_t, discount_t, obs_t):\n",
    "  pgrads = policy_gradient(parameters, obs_tm1, a_tm1, r_t, discount_t, obs_t)\n",
    "  td_update = value_update(parameters, obs_tm1, a_tm1, r_t, discount_t, obs_t)\n",
    "  return jax.tree_multimap(lambda pg, td: pg + td, pgrads, td_update)"
   ]
  },
  {
   "cell_type": "markdown",
   "metadata": {
    "id": "tYaVb6GcpCRe"
   },
   "source": [
    "### Optimisation\n",
    "\n",
    "In deep learning, gradient updates are typically rescaled and modifed to avoid taking too large a step on a single update (e.g., due to large variance), and to facilitate the optimisation process (it turns out raw stochatic gradients are often not the most effective for updating neural networks).\n",
    "\n",
    "For instance given a candidate gradient update $\\nabla$ we may update our parameters $\\theta$ by;\n",
    "$$\\Delta \\theta = \\theta + \\alpha * \\nabla\\,,$$\n",
    "where $\\alpha$ is a small number between 0 and 1 (e.g., $\\alpha=0.01$ or $\\alpha=0.001$), referred to as `step_size` or `learning_rate`\n",
    "\n",
    "The gradients with respect to each weight of a neural network may however have very different magnitudes. This can make it hard to set a suitable learning rate $\\alpha$.\n",
    "\n",
    "In deep learning, and deep RL, we typically use adaptive learning rates, for instance by rescaling each component of the gradient using statistics tracking the typical size of the updates to that weight. Then the entire update is rescaled using a global `learning_rate` $\\alpha$.\n"
   ]
  },
  {
   "cell_type": "markdown",
   "metadata": {
    "id": "hbFePWfApaMU"
   },
   "source": [
    "### Q5 [2 marks]\n",
    "\n",
    "A popular approach to adaptive gradient rescaling was introduced by the `Adam` algorithm.\n",
    "This algorithm implements the following procedure before applying each update:\n",
    "* Increase an update counter $k \\gets k+1$ (starting at k=0 before any updates),\n",
    "* Update the first moment of each gradient component $\\mu \\gets (1 - \\beta_1) g + \\beta_1 \\mu$ where $g$ is the latest stochastic gradient, where $\\beta_1$ is a parameter for the moving average.\n",
    "* Update the second moment of each gradient component $\\nu_i = (1 - \\beta_2) g_i ^ 2 + \\beta_2 \\nu_i $ where $g$ is the latest gradient update, where $\\beta_2$ is a parameter for the moving average.\n",
    "* Use the following update to update the weights:\n",
    "$$\\Delta w = \\alpha \\frac{\\mu / (1 - \\beta_1 ^ {k})}{\\epsilon + \\sqrt{\\nu / (1 - \\beta_1 ^ {k})}}$$\n",
    "* $\\alpha$ is a global `learning rate`\n",
    "* $\\beta_1$ and $\\beta_2$ define a soft horizon for the per-weight statistics.\n",
    "* $\\epsilon$ makes the rescaling more robust to numerical issues.\n",
    "\n",
    "(See [Kingma et al, 2014](https://arxiv.org/abs/1412.6980) for details, if you are interested.)\n",
    "\n",
    "In the next cell define a pair of functions (`opt_init`, and `opt_update` --- in each case `opt` is short for 'optimiser'), where:\n",
    "\n",
    "The `opt_init` function has signature `opt_state = opt_init(parameters)`.\n",
    "* Takes the network parameters as inputs\n",
    "* Initialises an `optimiser state` holding the per weight statistics.\n",
    "\n",
    "The `opt_update` function has signature `updates, opt_state = opt_update(grads, opt_state)`.\n",
    "* Takes a `gradient` and an `optimisers state`,\n",
    "* and returns the transformed gradient and the updated `optimiser state`.\n",
    "\n",
    "The optimiser state `opt_state` should contain:\n",
    "* The first-order momentum $\\mu$, as updated with a moving-average-parameter $\\beta_1$ which we call `b1` in the code.\n",
    "* The first-order momentum $\\nu$, as updated with a moving-average-parameter $\\beta_2$ which we call `b2` in the code.\n",
    "\n",
    "We will ignore the initial correction Adam typically uses, and will instead use the simpler transformation:\n",
    "$$\\Delta w = \\alpha \\frac{\\mu}{\\epsilon + \\sqrt{\\nu}}$$\n",
    "\n",
    "Set the algorithm's hyper-parameters to $\\alpha=0.003$, $\\beta_1=.9$ and $\\beta_2=.999$, $\\epsilon=10^{-4}$.  You are allowed to hard-code these in, or make them configurable (e.g., pass them as additional arguments to `opt_update`, which is better if you want to play around, of course).  Set the initial moving averages to zero for $\\mu$ and one for $\\nu$.  E.g.,\n",
    "\n",
    "        mu = jax.tree_multimap(jnp.zeros_like, parameters)"
   ]
  },
  {
   "cell_type": "code",
   "execution_count": 31,
   "metadata": {
    "id": "017XRA_BpbZx"
   },
   "outputs": [],
   "source": [
    "def opt_init(parameters):\n",
    "  \n",
    "  #first-order momentum  𝜇, first-order momentum  𝜈, counter = 0 \n",
    "  mu = jax.tree_map(jnp.zeros_like, parameters)\n",
    "  v = jax.tree_map(jnp.zeros_like, parameters)\n",
    "  k = 0\n",
    "  return mu, v, k\n",
    "  #return opt_state\n",
    "\n",
    "def opt_update(grads, opt_state):\n",
    "  \n",
    "  #get the state parameters\n",
    "  mu, v, k = opt_state\n",
    "\n",
    "  #set the hyperparameters\n",
    "  alpha = 0.003\n",
    "  b1 = 0.9\n",
    "  b2 = 0.999\n",
    "  epsilon = 1e-4\n",
    "\n",
    "  #increment the counter\n",
    "  k += 1\n",
    "\n",
    "  #update the moments\n",
    "  mu = jax.tree_multimap(lambda g, m: (1 - b1) * g + b1 * m, grads, mu)\n",
    "  v = jax.tree_multimap(lambda g, v: (1 - b2) * jnp.square(g) + b2 * v, grads, v)\n",
    "  \n",
    "  #bias correction\n",
    "  mu_hat = jax.tree_map(lambda m: m / (1 - jnp.asarray(b1 ** k, m.dtype)), mu)\n",
    "  v_hat = jax.tree_map(lambda v: v / (1 - jnp.asarray(b2 ** k, v.dtype)), v)\n",
    "\n",
    "  #update the weights\n",
    "  updates = jax.tree_multimap(lambda m, v: alpha * m / (jnp.sqrt(v) + epsilon), mu_hat, v_hat)\n",
    "\n",
    "  return updates, (mu, v, k)\n",
    "  #return updates, (u,v,k)"
   ]
  },
  {
   "cell_type": "markdown",
   "metadata": {
    "id": "DczWvZfNSnTj"
   },
   "source": [
    "### Run experiments\n",
    "\n",
    "Run the cell below to show the performance of the resulting agent.\n",
    "\n",
    "You may also use this section for debugging your implementations.\n",
    "\n",
    "Note however, that most functions are `jitted` for performance,\n",
    "* either using the `@jax.jit` decorator in the function definition\n",
    "* or calling explicitely `fn = jax.jit(fn)`\n",
    "\n",
    "When jitting, the code is compiled on the first time the function is executed\n",
    "* and execution is much faster on subsequent calls.\n",
    "* a notable side effect is that print statements in a jitted function will only execute on the first execution of the function.\n",
    "* to drop into a debugger or print on each function execution you will have to disable the `@jax.jit` annotations and jax.jit calls."
   ]
  },
  {
   "cell_type": "code",
   "execution_count": 32,
   "metadata": {
    "colab": {
     "base_uri": "https://localhost:8080/",
     "height": 356
    },
    "id": "Fz837XTkLxE8",
    "outputId": "77a04eaa-fe08-4f32-fd48-99b9185c9bfd"
   },
   "outputs": [
    {
     "name": "stdout",
     "output_type": "stream",
     "text": [
      "Training agent for 1500 episodes...\n"
     ]
    },
    {
     "data": {
      "image/png": "[encoded data removed]",
      "text/plain": [
       "<Figure size 504x360 with 1 Axes>"
      ]
     },
     "metadata": {
      "needs_background": "light"
     },
     "output_type": "display_data"
    }
   ],
   "source": [
    "# DO NOT CHANGE THIS CELL\n",
    "\n",
    "# Experiment configs.\n",
    "train_episodes = 1500\n",
    "discount_factor = .99\n",
    "\n",
    "# Create environment.\n",
    "env = catch.Catch(seed=42)\n",
    "\n",
    "# Build and initialize network.\n",
    "rng = jax.random.PRNGKey(44)\n",
    "rng, init_rng = jax.random.split(rng)\n",
    "sample_input = env.observation_spec().generate_value()\n",
    "parameters = init_net(init_rng, sample_input)\n",
    "\n",
    "# Initialize optimizer state.\n",
    "opt_state = opt_init(parameters)\n",
    "\n",
    "# Apply updates\n",
    "def apply_updates(params, updates):\n",
    "  return jax.tree_multimap(lambda p, u: p + u, params, updates)\n",
    "\n",
    "# Jit.\n",
    "opt_update = jax.jit(opt_update)\n",
    "apply_updates = jax.jit(apply_updates)\n",
    "\n",
    "print(f\"Training agent for {train_episodes} episodes...\")\n",
    "all_episode_returns = []\n",
    "\n",
    "for _ in range(train_episodes):\n",
    "  episode_return = 0.\n",
    "  timestep = env.reset()\n",
    "  obs_tm1 = timestep.observation\n",
    "\n",
    "  # Sample initial action.\n",
    "  rng, policy_rng = jax.random.split(rng)\n",
    "  a_tm1 = softmax_policy(parameters, policy_rng, obs_tm1)\n",
    "\n",
    "  while not timestep.last():\n",
    "    # Step environment.\n",
    "    new_timestep = env.step(int(a_tm1))\n",
    "\n",
    "    # Sample action from agent policy.\n",
    "    rng, policy_rng = jax.random.split(rng)\n",
    "    a_t = softmax_policy(parameters, policy_rng, new_timestep.observation)\n",
    "\n",
    "    # Update params.\n",
    "    r_t = new_timestep.reward\n",
    "    discount_t = discount_factor * new_timestep.discount\n",
    "    dJ_dtheta = compute_gradient(\n",
    "        parameters, obs_tm1, a_tm1, r_t, discount_t,\n",
    "        new_timestep.observation)\n",
    "    updates, opt_state = opt_update(dJ_dtheta, opt_state)\n",
    "    parameters = apply_updates(parameters, updates)\n",
    "\n",
    "    # Within episode book-keeping.\n",
    "    episode_return += new_timestep.reward\n",
    "    timestep = new_timestep\n",
    "    obs_tm1 = new_timestep.observation\n",
    "    a_tm1 = a_t\n",
    "\n",
    "  # Experiment results tracking.\n",
    "  all_episode_returns.append(episode_return)\n",
    "\n",
    "# Plot learning curve.\n",
    "plot_learning_curve(all_episode_returns)"
   ]
  },
  {
   "cell_type": "code",
   "execution_count": 33,
   "metadata": {
    "id": "M66-blHH9JFn"
   },
   "outputs": [],
   "source": [
    "#jnp.array(all_episode_returns).max()"
   ]
  },
  {
   "cell_type": "markdown",
   "metadata": {
    "id": "9dowFJ_l-32A"
   },
   "source": [
    "# B) An alternative update\n",
    "\n",
    "You are going to implement a different kind of agent.\n",
    "\n",
    "Like an actor-critic, it learns online from a single stream of experience, updating the parametes after each transition in the environment."
   ]
  },
  {
   "cell_type": "markdown",
   "metadata": {
    "id": "aQD0Qw8-_QJy"
   },
   "source": [
    "### Neural networks\n",
    "\n",
    "\n",
    "The agent will reuse the same neural network we defined for the actor-critic:\n",
    "* the scalar output will be trained via TD to estimate state values\n",
    "* the vector preferences `p` will be updated according to a different rule."
   ]
  },
  {
   "cell_type": "markdown",
   "metadata": {
    "id": "I6j0AIF8GhdR"
   },
   "source": [
    "### Choosing actions\n",
    "\n",
    "As in actor-critics, the (stochastic) mapping from `observations` to `actions` depends on the vector of preferences `p` from the network."
   ]
  },
  {
   "cell_type": "markdown",
   "metadata": {
    "id": "jE00LhDL_nbC"
   },
   "source": [
    "### Q6 [2 marks]\n",
    "\n",
    "The new agent's policy will have the signature `action = epsilon_greedy_policy(parameters, key, observation)`,\n",
    "* Take as inputs the current network parameters `parameters`, a JAX random `key` and the current `observation`\n",
    "* Return with probability `0.9` the greedy `action` with respect to the preferences `p`, ties must be broken at random.\n",
    "* Return an action uniformly at random with probability `0.1`"
   ]
  },
  {
   "cell_type": "code",
   "execution_count": 66,
   "metadata": {
    "id": "8IwTDROL_Lx5"
   },
   "outputs": [],
   "source": [
    "@jax.jit\n",
    "def epsilon_greedy_policy(parameters, key, observation):\n",
    "  \"\"\"Sample action from an epsilon-greedy policy.\"\"\"\n",
    "  \n",
    "  #epsilon\n",
    "  epsilon = 0.1\n",
    "\n",
    "  # Compute action preferences\n",
    "  v, p = apply_net(parameters, observation)\n",
    "\n",
    "  #get the pref\n",
    "  pref = jax.nn.softmax(p)\n",
    "\n",
    "  #num actions\n",
    "  num = pref.shape[-1]\n",
    "\n",
    "  #split the key\n",
    "  key1, key2 = jax.random.split(key, 2)\n",
    "\n",
    "  # Greedy action probability (0 when max, ow max value)\n",
    "  greedy = (p == p.max(axis=-1, keepdims=True))\n",
    "\n",
    "  #normalise prob\n",
    "  greedy_prob = greedy / greedy.sum(axis=-1, keepdims=True)\n",
    "\n",
    "  # Uniform at random\n",
    "  uniform = jnp.ones_like(greedy_prob) / num\n",
    "\n",
    "  #final probabilities\n",
    "  prob = (1-epsilon) * greedy_prob +epsilon * uniform\n",
    "  ##prob = jnp.where(jax.random.uniform(key1) <= 0.9, (1-epsilon) * greedy_prob +epsilon * uniform , uniform)\n",
    "\n",
    "  action = jax.random.choice(key2, jnp.arange(3), p=prob)\n",
    "  \n",
    "  return action"
   ]
  },
  {
   "cell_type": "markdown",
   "metadata": {
    "id": "l1zQiRX5BfeA"
   },
   "source": [
    "### Q7 [3 marks]\n",
    "\n",
    "The parameters $w_p$ of the preferences $p_{w_p}(s, a)$ will be update according to the following gradient-based update:\n",
    "\n",
    "$$\\Delta w_p = \\alpha (R_{t+1} + \\gamma v(S_{t+1}) - p(S_{t}, A_t)) \\nabla p(S_t, A_t))$$\n",
    "\n",
    "where `v` is the state value trained by TD as in the actor critic.\n",
    "\n",
    "You musy implement this in the function `preference_gradient`, with the same signature as `policy_gradient`"
   ]
  },
  {
   "cell_type": "code",
   "execution_count": 56,
   "metadata": {
    "id": "6fQhAWXqLNt-"
   },
   "outputs": [],
   "source": [
    "def pref_lossfunc(parameters, obs_tm1, a_tm1, r_t, discount_t, obs_t):\n",
    "\n",
    "    #baseline\n",
    "    v_tm1, p_tm1 = apply_net(parameters, obs_tm1)\n",
    "    \n",
    "    #state value\n",
    "    v_t, p_t = apply_net(parameters, obs_t)\n",
    "\n",
    "    #get the preference\n",
    "    pref = p_tm1[a_tm1]\n",
    "\n",
    "    #compute loss - stopping the grad\n",
    "    target_tm1 = r_t + discount_t * v_t\n",
    "    td_error = jax.lax.stop_gradient(target_tm1 - pref)\n",
    "\n",
    "    return td_error * pref\n",
    "\n",
    "def preference_gradient(parameters, obs_tm1, a_tm1, r_t, discount_t, obs_t):\n",
    "  return jax.grad(pref_lossfunc)(parameters, obs_tm1, a_tm1, r_t, discount_t, obs_t)\n",
    "  #return grads"
   ]
  },
  {
   "cell_type": "markdown",
   "metadata": {
    "id": "hz4RFKnVF8E8"
   },
   "source": [
    "### Updating shared parameters\n",
    "\n",
    "Just like in the actor critic the overall update to the parameters is a combination of two quantities:\n",
    "* the new update we defined for the vector of preferences\n",
    "* the same TD update to the scalar output that we used in the actor critic"
   ]
  },
  {
   "cell_type": "code",
   "execution_count": 57,
   "metadata": {
    "id": "QnghCzKhF-gI"
   },
   "outputs": [],
   "source": [
    "@jax.jit\n",
    "def compute_gradient(parameters, obs_tm1, a_tm1, r_t, discount_t, obs_t):\n",
    "  pgrads = preference_gradient(parameters, obs_tm1, a_tm1, r_t, discount_t, obs_t)\n",
    "  vgrads = value_update(parameters, obs_tm1, a_tm1, r_t, discount_t, obs_t)\n",
    "  return jax.tree_multimap(lambda pg, td: pg + td, pgrads, vgrads)"
   ]
  },
  {
   "cell_type": "markdown",
   "metadata": {
    "id": "44QBKEF4HFK8"
   },
   "source": [
    "### Optimisation\n",
    "\n",
    "The gradient updates are rescaled using the same optimiser used for the actor-critic."
   ]
  },
  {
   "cell_type": "markdown",
   "metadata": {
    "id": "dbdHQo23FJit"
   },
   "source": [
    "### Run experiments\n",
    "\n",
    "Run the cell below to show the performance of the new agent."
   ]
  },
  {
   "cell_type": "code",
   "execution_count": 67,
   "metadata": {
    "colab": {
     "base_uri": "https://localhost:8080/",
     "height": 354
    },
    "id": "ept5NG1oFLnu",
    "outputId": "1ddddf78-2011-4905-888e-378ebb2311ff"
   },
   "outputs": [
    {
     "name": "stdout",
     "output_type": "stream",
     "text": [
      "Training agent for 15000 episodes...\n"
     ]
    },
    {
     "data": {
      "image/png": "[encoded data removed]",
      "text/plain": [
       "<Figure size 504x360 with 1 Axes>"
      ]
     },
     "metadata": {
      "needs_background": "light"
     },
     "output_type": "display_data"
    }
   ],
   "source": [
    "# DO NOT CHANGE THIS CELL\n",
    "\n",
    "# Experiment configs.\n",
    "train_episodes = 15000\n",
    "discount_factor = .99\n",
    "\n",
    "# Create environment.\n",
    "env = catch.Catch(seed=42)\n",
    "\n",
    "# Build and initialize network.\n",
    "rng = jax.random.PRNGKey(44)\n",
    "rng, init_rng = jax.random.split(rng)\n",
    "sample_input = env.observation_spec().generate_value()\n",
    "parameters = init_net(init_rng, sample_input)\n",
    "\n",
    "# Initialize optimizer state.\n",
    "opt_state = opt_init(parameters)\n",
    "\n",
    "# Apply updates\n",
    "def apply_updates(params, updates):\n",
    "  return jax.tree_multimap(lambda p, u: p + u, params, updates)\n",
    "\n",
    "# Jit.\n",
    "opt_update = jax.jit(opt_update)\n",
    "apply_updates = jax.jit(apply_updates)\n",
    "\n",
    "print(f\"Training agent for {train_episodes} episodes...\")\n",
    "all_episode_returns = []\n",
    "\n",
    "for _ in range(train_episodes):\n",
    "  episode_return = 0.\n",
    "  timestep = env.reset()\n",
    "  obs_tm1 = timestep.observation\n",
    "\n",
    "  # Sample initial action.\n",
    "  rng, policy_rng = jax.random.split(rng)\n",
    "  a_tm1 = epsilon_greedy_policy(parameters, policy_rng, obs_tm1)\n",
    "\n",
    "  while not timestep.last():\n",
    "    # Step environment.\n",
    "    new_timestep = env.step(int(a_tm1))\n",
    "\n",
    "    # Sample action from agent policy.\n",
    "    rng, policy_rng = jax.random.split(rng)\n",
    "    a_t = epsilon_greedy_policy(parameters, policy_rng, new_timestep.observation)\n",
    "\n",
    "    # Update params.\n",
    "    r_t = new_timestep.reward\n",
    "    discount_t = discount_factor * new_timestep.discount\n",
    "\n",
    "    dJ_dtheta = compute_gradient(\n",
    "        parameters, obs_tm1, a_tm1, r_t, discount_t,\n",
    "        new_timestep.observation)\n",
    "    updates, opt_state = opt_update(dJ_dtheta, opt_state)\n",
    "    parameters = apply_updates(parameters, updates)\n",
    "\n",
    "    # Within episode book-keeping.\n",
    "    episode_return += new_timestep.reward\n",
    "    timestep = new_timestep\n",
    "    obs_tm1 = new_timestep.observation\n",
    "    a_tm1 = a_t\n",
    "\n",
    "  # Experiment results tracking.\n",
    "  all_episode_returns.append(episode_return)\n",
    "\n",
    "# Plot learning curve.\n",
    "plot_learning_curve(all_episode_returns)"
   ]
  },
  {
   "cell_type": "markdown",
   "metadata": {
    "id": "g80tBzfsBgya"
   },
   "source": [
    "### Q8 [6 marks]\n",
    "\n",
    "[2pts]: What is the best asymptotic average return that can be achieved by the actor-critic agent described in `Part 2A)`? Can this be futher improved, and if so: how? Explain your answer.\n",
    "\n",
    "> Answer - The best asymptotic average return = 1\n",
    "This is because it acts greedily when t → ∞, given probability of non optimal value goes to zero.\n",
    "This can generally be improved by tuning the hyperparameters and increasing the number of iterations. \n",
    "\n",
    "[2pts] What is the best asymptotic average return that can be achieved by the second agent described in `Part 2B)`? Can this be futher improved, and if so: how? Explain your answer.\n",
    "\n",
    "> The best aysptotic average return that can be achieved by the second agent = 0.93\n",
    "It always has a 10% probability of acting randomly as t → ∞. This means when we act randomly, we will always end up picking a non optimal action 2/3rd times.\n",
    "The return can be again improved by tuning the hyperparameters, increasing the value of epsilon and increasing the number of iterations.\n",
    "\n",
    "[2pts] What quantity do the preferences `p` estimate in the second agent described in Part B?\n",
    "\n",
    "> The preferences p estimates a ranking for the actions that the agent should take. In the greedy case, the agent always ends up taking the top-ranked action."
   ]
  },
  {
   "cell_type": "code",
   "execution_count": 21,
   "metadata": {
    "id": "0BJrDzXJxTl7"
   },
   "outputs": [],
   "source": []
  }
 ],
 "metadata": {
  "colab": {
   "collapsed_sections": [],
   "name": "21139982_RL_part3.ipynb",
   "provenance": []
  },
  "kernelspec": {
   "display_name": "Python 3",
   "language": "python",
   "name": "python3"
  },
  "language_info": {
   "codemirror_mode": {
    "name": "ipython",
    "version": 3
   },
   "file_extension": ".py",
   "mimetype": "text/x-python",
   "name": "python",
   "nbconvert_exporter": "python",
   "pygments_lexer": "ipython3",
   "version": "3.8.8"
  }
 },
 "nbformat": 4,
 "nbformat_minor": 1
}
